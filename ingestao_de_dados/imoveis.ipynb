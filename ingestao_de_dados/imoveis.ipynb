{
 "cells": [
  {
   "cell_type": "code",
   "execution_count": null,
   "metadata": {},
   "outputs": [],
   "source": [
    "import requests\n",
    "from bs4 import BeautifulSoup as bs\n",
    "import pandas as pd"
   ]
  },
  {
   "cell_type": "code",
   "execution_count": null,
   "metadata": {},
   "outputs": [],
   "source": [
    "url = 'https://www.vivareal.com.br/venda/bahia/salvador/?pagina={}'\n",
    "headers = {'User-Agent': 'Mozilla/5.0 (Macintosh; Intel Mac OS X 10_11_5) AppleWebKit/537.36 (KHTML+, like Gecko) Chrome/50.0.2661.102 Safari/537.36'}"
   ]
  },
  {
   "cell_type": "code",
   "execution_count": null,
   "metadata": {},
   "outputs": [],
   "source": [
    "req = requests.get(url.format(1), headers = headers)\n",
    "\n",
    "soup = bs(req.text)\n",
    "\n",
    "casas = soup.find_all('a', {'class': 'property-card__content-link'})\n",
    "qtd_casas = soup.find('strong', {'class': 'results-summary__count'}).text.replace('.', '')"
   ]
  },
  {
   "cell_type": "code",
   "execution_count": null,
   "metadata": {},
   "outputs": [],
   "source": [
    "print(len(casas))\n",
    "print(float(qtd_casas)/36)"
   ]
  },
  {
   "cell_type": "code",
   "execution_count": null,
   "metadata": {},
   "outputs": [],
   "source": [
    "casa = casas[0]\n",
    "casa"
   ]
  },
  {
   "cell_type": "code",
   "execution_count": null,
   "metadata": {},
   "outputs": [],
   "source": [
    "info_casas = []\n",
    "\n",
    "for i in range(len(casas)):\n",
    "  info_casa = {}\n",
    "  try:\n",
    "    info_casa['descricao'] = casas[i].find('span', {'class': 'property-card__title'}).text.strip()\n",
    "  except:\n",
    "    info_casa['descricao'] = None\n",
    "  try:\n",
    "    info_casa['area'] = casas[i].find('li', {'class': 'property-card__detail-area'}).span.text.strip()\n",
    "  except:\n",
    "    info_casa['area'] = None\n",
    "  try:\n",
    "    info_casa['quartos'] = casas[i].find('li', {'class': 'property-card__detail-room'}).span.text.strip()\n",
    "  except:\n",
    "    info_casa['quartos'] = None\n",
    "  try:\n",
    "    info_casa['banheiros'] = casas[i].find('li', {'class': 'property-card__detail-bathroom'}).span.text.strip()\n",
    "  except:\n",
    "    info_casa['banheiros'] = None\n",
    "  try:\n",
    "    info_casa['vagas'] = casas[i].find('li', {'class': 'property-card__detail-garage'}).span.text.strip()\n",
    "  except:\n",
    "    info_casa['vagas'] = None\n",
    "  try:\n",
    "    info_casa['valor'] = casas[i].find('div', {'class': 'property-card__price'}).text.strip()\n",
    "  except:\n",
    "    info_casa['valor'] = None\n",
    "  try:\n",
    "    info_casa['condominio'] = casas[i].find('strong', {'class': 'js-condo-price'}).text.strip()\n",
    "  except:\n",
    "    info_casa['condominio'] = None\n",
    "  try:\n",
    "    info_casa['link'] = f\"https://www.vivareal.com.br/{casas[i]['href']}\"\n",
    "  except:\n",
    "    info_casa['link'] = None\n",
    "\n",
    "  info_casas.append(info_casa)"
   ]
  },
  {
   "cell_type": "code",
   "execution_count": null,
   "metadata": {},
   "outputs": [],
   "source": [
    "for infos in info_casas:\n",
    "  print(infos)"
   ]
  }
 ],
 "metadata": {
  "kernelspec": {
   "display_name": "venv",
   "language": "python",
   "name": "python3"
  },
  "language_info": {
   "codemirror_mode": {
    "name": "ipython",
    "version": 3
   },
   "file_extension": ".py",
   "mimetype": "text/x-python",
   "name": "python",
   "nbconvert_exporter": "python",
   "pygments_lexer": "ipython3",
   "version": "3.10.12"
  }
 },
 "nbformat": 4,
 "nbformat_minor": 2
}
