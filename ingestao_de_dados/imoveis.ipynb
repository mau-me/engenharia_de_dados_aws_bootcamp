{
 "cells": [
  {
   "cell_type": "code",
   "execution_count": null,
   "metadata": {},
   "outputs": [],
   "source": [
    "import requests\n",
    "from bs4 import BeautifulSoup as bs\n",
    "import pandas as pd"
   ]
  },
  {
   "cell_type": "code",
   "execution_count": null,
   "metadata": {},
   "outputs": [],
   "source": [
    "url = 'https://www.vivareal.com.br/venda/bahia/salvador/?pagina={}'\n",
    "headers = {\n",
    "    'User-Agent': 'Mozilla/5.0 (Macintosh; Intel Mac OS X 10_11_5) AppleWebKit/537.36 (KHTML+, like Gecko) Chrome/50.0.2661.102 Safari/537.36'}"
   ]
  },
  {
   "cell_type": "code",
   "execution_count": 179,
   "metadata": {},
   "outputs": [],
   "source": [
    "def buscarCasas():\n",
    "    i = 1\n",
    "    lst_casas = []\n",
    "\n",
    "    while True:\n",
    "        req = requests.get(url.format(i), headers=headers)\n",
    "        soup = bs(req.text)\n",
    "\n",
    "        print(f'Processando a página {i}')\n",
    "\n",
    "        botaoProximo = soup.find('button', {'title': 'Próxima página'})\n",
    "\n",
    "        casas = soup.find_all('a', {'class': 'property-card__content-link'})\n",
    "        for casa in casas:\n",
    "            lst_casas.append(casa)\n",
    "        i = i+1\n",
    "\n",
    "        if ('data-disabled' in botaoProximo.attrs):\n",
    "            return lst_casas"
   ]
  },
  {
   "cell_type": "code",
   "execution_count": 180,
   "metadata": {},
   "outputs": [],
   "source": [
    "def quantidadeCasas():\n",
    "    req = requests.get(url.format(1), headers=headers)\n",
    "    soup = bs(req.text)\n",
    "    qtd_casas = soup.find(\n",
    "        'strong', {'class': 'results-summary__count'}).text.replace('.', '')\n",
    "\n",
    "    return qtd_casas"
   ]
  },
  {
   "cell_type": "code",
   "execution_count": 181,
   "metadata": {},
   "outputs": [
    {
     "name": "stdout",
     "output_type": "stream",
     "text": [
      "A busca encontrou 77742, logo, 2159 páginas\n",
      "Processando a página 275\n",
      "Processando a página 276\n",
      "Processando a página 277\n"
     ]
    }
   ],
   "source": [
    "df = pd.DataFrame(\n",
    "    columns=[\n",
    "        'descricao', 'area', 'quartos', 'banheiros', 'vagas', 'valor', 'condominio', 'link'\n",
    "    ]\n",
    ")\n",
    "qtd_casas = int(quantidadeCasas())\n",
    "print(f'A busca encontrou {qtd_casas}, logo, {int(qtd_casas/36)} páginas')\n",
    "\n",
    "casas = buscarCasas()"
   ]
  },
  {
   "cell_type": "code",
   "execution_count": 182,
   "metadata": {},
   "outputs": [],
   "source": [
    "for casa in casas:\n",
    "    try:\n",
    "        descricao = casa.find(\n",
    "            'span', {'class': 'property-card__title'}).text.strip()\n",
    "    except:\n",
    "        descricao = None\n",
    "    try:\n",
    "        area = casa.find(\n",
    "            'li', {'class': 'property-card__detail-area'}).span.text.strip()\n",
    "    except:\n",
    "        area = None\n",
    "    try:\n",
    "        quartos = casa.find(\n",
    "            'li', {'class': 'property-card__detail-room'}).span.text.strip()\n",
    "    except:\n",
    "        quartos = None\n",
    "    try:\n",
    "        banheiros = casa.find(\n",
    "            'li', {'class': 'property-card__detail-bathroom'}).span.text.strip()\n",
    "    except:\n",
    "        banheiros = None\n",
    "    try:\n",
    "        vagas = casa.find(\n",
    "            'li', {'class': 'property-card__detail-garage'}).span.text.strip()\n",
    "    except:\n",
    "        vagas = None\n",
    "    try:\n",
    "        valor = casa.find(\n",
    "            'div', {'class': 'property-card__price'}).text.strip()\n",
    "    except:\n",
    "        valor = None\n",
    "    try:\n",
    "        condominio = casa.find(\n",
    "            'strong', {'class': 'js-condo-price'}).text.strip()\n",
    "    except:\n",
    "        condominio = None\n",
    "    try:\n",
    "        link = f\"https://www.vivareal.com.br/{casa['href']}\"\n",
    "    except:\n",
    "        link = None\n",
    "\n",
    "    df.loc[df.shape[0]] = [descricao, area, quartos,\n",
    "                           banheiros, vagas, valor, condominio, link]"
   ]
  },
  {
   "cell_type": "code",
   "execution_count": 184,
   "metadata": {},
   "outputs": [
    {
     "data": {
      "text/plain": [
       "108"
      ]
     },
     "execution_count": 184,
     "metadata": {},
     "output_type": "execute_result"
    }
   ],
   "source": [
    "df.shape[0]"
   ]
  }
 ],
 "metadata": {
  "kernelspec": {
   "display_name": "venv",
   "language": "python",
   "name": "python3"
  },
  "language_info": {
   "codemirror_mode": {
    "name": "ipython",
    "version": 3
   },
   "file_extension": ".py",
   "mimetype": "text/x-python",
   "name": "python",
   "nbconvert_exporter": "python",
   "pygments_lexer": "ipython3",
   "version": "3.10.12"
  }
 },
 "nbformat": 4,
 "nbformat_minor": 2
}
