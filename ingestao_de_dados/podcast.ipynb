{
 "cells": [
  {
   "cell_type": "code",
   "execution_count": 54,
   "metadata": {},
   "outputs": [],
   "source": [
    "import requests\n",
    "from bs4 import BeautifulSoup as bs\n",
    "import pandas as pd"
   ]
  },
  {
   "cell_type": "code",
   "execution_count": 44,
   "metadata": {},
   "outputs": [],
   "source": [
    "url = 'https://portalcafebrasil.com.br/todos/podcasts/page/{}/?ajax=true'"
   ]
  },
  {
   "cell_type": "code",
   "execution_count": 71,
   "metadata": {},
   "outputs": [],
   "source": [
    "def busca_episodios(url):\n",
    "  i = 1\n",
    "  lst_podcasts = []\n",
    "  while True:\n",
    "    req = requests.get(url.format(i))\n",
    "    if(req):\n",
    "      soup = bs(req.text)\n",
    "      lst_eps = soup.find_all('h5')\n",
    "      for item in lst_eps:\n",
    "        lst_podcasts.append([item.text, item.a[\"href\"]])\n",
    "      i = i+1\n",
    "    else:\n",
    "      return lst_podcasts"
   ]
  },
  {
   "cell_type": "code",
   "execution_count": 72,
   "metadata": {},
   "outputs": [],
   "source": [
    "podcasts = busca_episodios(url)"
   ]
  },
  {
   "cell_type": "code",
   "execution_count": 83,
   "metadata": {},
   "outputs": [
    {
     "name": "stdout",
     "output_type": "stream",
     "text": [
      "                                             nome  \\\n",
      "0      Café Brasil 909 – O efeito do esquecimento   \n",
      "1          Café Brasil 908 – A inveja e o campeão   \n",
      "2    Café Brasil 907 – Conspiradores – revisitado   \n",
      "3           Café Brasil 906 – O Espírito Natalino   \n",
      "4                 Café Brasil 905  – Music and Me   \n",
      "..                                            ...   \n",
      "941             Café Brasil 005 – Vozes do Brasil   \n",
      "942                     Café Brasil 004 – Sucesso   \n",
      "943                     Café Brasil 003 – O Livro   \n",
      "944                 Café Brasil 002 – Saudade Dói   \n",
      "945            Café Brasil 001 – Mídia e Baixaria   \n",
      "\n",
      "                                                   url  \n",
      "0    https://portalcafebrasil.com.br/cafe-brasil-90...  \n",
      "1    https://portalcafebrasil.com.br/cafe-brasil-90...  \n",
      "2    https://portalcafebrasil.com.br/cafe-brasil-90...  \n",
      "3    https://portalcafebrasil.com.br/cafe-brasil-90...  \n",
      "4    https://portalcafebrasil.com.br/cafe-brasil-90...  \n",
      "..                                                 ...  \n",
      "941   https://portalcafebrasil.com.br/vozes-do-brasil/  \n",
      "942           https://portalcafebrasil.com.br/sucesso/  \n",
      "943           https://portalcafebrasil.com.br/o-livro/  \n",
      "944   https://portalcafebrasil.com.br/002-saudade-doi/  \n",
      "945  https://portalcafebrasil.com.br/midia-e-baixaria/  \n",
      "\n",
      "[946 rows x 2 columns]\n"
     ]
    }
   ],
   "source": [
    "len(podcasts)\n",
    "\n",
    "df = pd.DataFrame(podcasts, columns=['nome', 'url'])\n",
    "\n",
    "# for item in podcasts:\n",
    "#   # df.loc[df.shape[0]] = [item[0], item[1]]\n",
    "#   print(item)\n",
    "\n",
    "print(df)"
   ]
  },
  {
   "cell_type": "code",
   "execution_count": 85,
   "metadata": {},
   "outputs": [],
   "source": [
    "df.to_csv('bd_podcasts.csv', index=False)"
   ]
  }
 ],
 "metadata": {
  "kernelspec": {
   "display_name": "venv",
   "language": "python",
   "name": "python3"
  },
  "language_info": {
   "codemirror_mode": {
    "name": "ipython",
    "version": 3
   },
   "file_extension": ".py",
   "mimetype": "text/x-python",
   "name": "python",
   "nbconvert_exporter": "python",
   "pygments_lexer": "ipython3",
   "version": "3.10.12"
  }
 },
 "nbformat": 4,
 "nbformat_minor": 2
}
