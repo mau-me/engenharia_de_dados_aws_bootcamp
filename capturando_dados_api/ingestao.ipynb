{
 "cells": [
  {
   "cell_type": "markdown",
   "metadata": {},
   "source": [
    "### Mercado Bitcoin\n",
    "\n",
    "Será utilizado como exemplo a API da plataforma mercado bitcoin\n",
    "\n",
    "url: https://api.mercadobitcoin.net/api/v4/docs\n"
   ]
  },
  {
   "cell_type": "code",
   "execution_count": null,
   "metadata": {},
   "outputs": [],
   "source": [
    "import os\n",
    "import logging\n",
    "import requests\n",
    "from abc import ABC, abstractmethod\n",
    "import datetime\n",
    "from typing import List\n",
    "import json\n",
    "\n",
    "\n",
    "logger = logging.getLogger(__name__)\n",
    "logging.basicConfig(level=logging.INFO)"
   ]
  },
  {
   "cell_type": "code",
   "execution_count": null,
   "metadata": {},
   "outputs": [],
   "source": [
    "class DataTypeNotSupportedException(Exception):\n",
    "    def __init__(self, data) -> None:\n",
    "        self.data = data\n",
    "        self.message = f'Data type {type(data)} is not supported for ingestion'\n",
    "        super().__init__(self.message)"
   ]
  },
  {
   "cell_type": "code",
   "execution_count": null,
   "metadata": {},
   "outputs": [],
   "source": [
    "class DataWriter():\n",
    "    def __init__(self, coin: str, api: str) -> None:\n",
    "        self.coin = coin\n",
    "        self.api = api\n",
    "        self.filename = f'{self.api}/{self.coin}/{datetime.datetime.now()}.json'\n",
    "\n",
    "    def _write_row(self, row: str) -> None:\n",
    "        os.makedirs(os.path.dirname(self.filename), exist_ok=True)\n",
    "        with open(self.filename, 'a') as f:\n",
    "            f.write(row)\n",
    "\n",
    "    def write(self, data):\n",
    "        if isinstance(data, dict):\n",
    "            self._write_row(json.dumps(data) + '\\n')\n",
    "        elif isinstance(data, List):\n",
    "            for element in data:\n",
    "                self.write(element)\n",
    "        else:\n",
    "            raise DataTypeNotSupportedException(data)"
   ]
  },
  {
   "cell_type": "code",
   "execution_count": null,
   "metadata": {},
   "outputs": [],
   "source": [
    "class MercadoBitcoinApi(ABC):\n",
    "    def __init__(self, coin: str):\n",
    "        self.coin = coin\n",
    "        self.base = 'https://api.mercadobitcoin.net/api/v4'\n",
    "\n",
    "    @abstractmethod\n",
    "    def _get_endpoint(self) -> str:\n",
    "        pass\n",
    "\n",
    "    def get_data(self, **kwargs) -> dict:\n",
    "        endpoint = self._get_endpoint(**kwargs)\n",
    "        logger.info(f'Getting data from endpoint: {endpoint}')\n",
    "        response = requests.get(endpoint)\n",
    "        return response.json()\n",
    "\n",
    "\n",
    "class TickersApi(MercadoBitcoinApi):\n",
    "    type = 'tickers'\n",
    "\n",
    "    def _get_endpoint(self) -> str:\n",
    "        return f'{self.base}/{self.type}/?symbols={self.coin}'\n",
    "\n",
    "\n",
    "class TradesApi(MercadoBitcoinApi):\n",
    "    type = 'trades'\n",
    "\n",
    "    def _get_unix_epoch(self, date: datetime) -> int:\n",
    "        return int(date.timestamp())\n",
    "\n",
    "    def _get_endpoint(self, date_from: datetime.datetime = None, date_to: datetime.date = None) -> str:\n",
    "\n",
    "        if date_from and not date_to:\n",
    "            unix_date_from = self._get_unix_epoch(date_from)\n",
    "            endpoint = f'{self.base}/{self.coin}/{self.type}/?from={unix_date_from}'\n",
    "        elif date_from and date_to:\n",
    "            unix_date_from = self._get_unix_epoch(date_from)\n",
    "            unix_date_to = self._get_unix_epoch(date_to)\n",
    "            endpoint = f'{self.base}/{self.coin}/{self.type}/?from={unix_date_from},to={unix_date_to}'\n",
    "        else:\n",
    "            endpoint = f'{self.base}/{self.coin}/{self.type}'\n",
    "\n",
    "        return endpoint"
   ]
  },
  {
   "cell_type": "code",
   "execution_count": null,
   "metadata": {},
   "outputs": [],
   "source": [
    "class DataIngestor(ABC):\n",
    "    def __init__(self, writer: DataWriter, coins: List[str], default_start_date: datetime.datetime = None) -> None:\n",
    "        self.writer = writer\n",
    "        self.coins = coins\n",
    "        self.default_start_date = default_start_date\n",
    "\n",
    "    @abstractmethod\n",
    "    def ingest(self) -> None:\n",
    "        pass\n",
    "\n",
    "class TickersIngestor(DataIngestor):\n",
    "    def ingest(self) -> None:\n",
    "        for coin in self.coins:\n",
    "            api = TickersApi(coin)\n",
    "            data = api.get_data()\n",
    "            self.writer(coin=coin, api=api.type).write(data)\n",
    "\n",
    "class TradesIngestor(DataIngestor):\n",
    "    def ingest(self) -> None:\n",
    "        date = self.default_start_date\n",
    "        if date < datetime.datetime.today():\n",
    "            for coin in self.coins:\n",
    "                api = TradesApi(coin)\n",
    "                data = api.get_data()\n",
    "                self.writer(coin=coin, api=api.type).write(data)"
   ]
  },
  {
   "cell_type": "code",
   "execution_count": null,
   "metadata": {},
   "outputs": [],
   "source": [
    "ingestorTickers = TickersIngestor(writer=DataWriter, coins=['BTC-BRL', 'ETH-BRL'])\n",
    "ingestorTickers.ingest()\n",
    "\n",
    "ingestorTrades = TradesIngestor(writer=DataWriter, coins=['BTC-BRL', 'ETH-BRL'], default_start_date=datetime.datetime(2022,7,30))\n",
    "ingestorTrades.ingest()"
   ]
  }
 ],
 "metadata": {
  "kernelspec": {
   "display_name": "venv",
   "language": "python",
   "name": "python3"
  },
  "language_info": {
   "codemirror_mode": {
    "name": "ipython",
    "version": 3
   },
   "file_extension": ".py",
   "mimetype": "text/x-python",
   "name": "python",
   "nbconvert_exporter": "python",
   "pygments_lexer": "ipython3",
   "version": "3.10.12"
  }
 },
 "nbformat": 4,
 "nbformat_minor": 2
}
