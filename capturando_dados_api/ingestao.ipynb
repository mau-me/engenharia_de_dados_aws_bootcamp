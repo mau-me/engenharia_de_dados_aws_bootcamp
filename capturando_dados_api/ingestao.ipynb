{
 "cells": [
  {
   "cell_type": "markdown",
   "metadata": {},
   "source": [
    "### Mercado Bitcoin\n",
    "\n",
    "Será utilizado como exemplo a API da plataforma mercado bitcoin\n",
    "\n",
    "url: https://api.mercadobitcoin.net/api/v4/docs\n"
   ]
  },
  {
   "cell_type": "code",
   "execution_count": 68,
   "metadata": {},
   "outputs": [],
   "source": [
    "import logging\n",
    "import requests\n",
    "from abc import ABC, abstractmethod\n",
    "import datetime\n",
    "from typing import List\n",
    "import json\n",
    "\n",
    "\n",
    "logger = logging.getLogger(__name__)\n",
    "logging.basicConfig(level=logging.INFO)"
   ]
  },
  {
   "cell_type": "code",
   "execution_count": 69,
   "metadata": {},
   "outputs": [],
   "source": [
    "class DataTypeNotSupportedException(Exception):\n",
    "    def __init__(self, data) -> None:\n",
    "        self.data = data\n",
    "        self.message = f'Data type {type(data)} is not supported for ingestion'\n",
    "        super().__init__(self.message)"
   ]
  },
  {
   "cell_type": "code",
   "execution_count": 70,
   "metadata": {},
   "outputs": [],
   "source": [
    "class DateWriter():\n",
    "    def __init__(self, filename: str) -> None:\n",
    "        self.filename = filename\n",
    "\n",
    "    def _write_row(self, row: str) -> None:\n",
    "        with open(self.filename, 'a') as f:\n",
    "            f.write(row)\n",
    "\n",
    "    def write(self, data):\n",
    "        if isinstance(data, dict):\n",
    "            self._write_row(json.dumps(data) + '\\n')\n",
    "        elif isinstance(data, List):\n",
    "            for element in data:\n",
    "                self.write(element)\n",
    "        else:\n",
    "            raise DataTypeNotSupportedException(data)"
   ]
  },
  {
   "cell_type": "code",
   "execution_count": 71,
   "metadata": {},
   "outputs": [],
   "source": [
    "class MercadoBitcoinApi(ABC):\n",
    "    def __init__(self, coin: str):\n",
    "        self.coin = coin\n",
    "        self.base = 'https://api.mercadobitcoin.net/api/v4'\n",
    "\n",
    "    @abstractmethod\n",
    "    def _get_endpoint(self) -> str:\n",
    "        pass\n",
    "\n",
    "    def get_data(self, **kwargs) -> dict:\n",
    "        endpoint = self._get_endpoint(**kwargs)\n",
    "        logger.info(f'Getting data from endpoint: {endpoint}')\n",
    "        response = requests.get(endpoint)\n",
    "        return response.json()\n",
    "\n",
    "class TickersApi(MercadoBitcoinApi):\n",
    "    type = 'tickers'\n",
    "\n",
    "    def _get_endpoint(self) -> str:\n",
    "        return f'{self.base}/{self.type}/?symbols={self.coin}'\n",
    "\n",
    "\n",
    "class TradesApi(MercadoBitcoinApi):\n",
    "    type = 'trades'\n",
    "\n",
    "    def _get_unix_epoch(self, date:datetime) -> int:\n",
    "        return int(date.timestamp())\n",
    "\n",
    "    def _get_endpoint(self, date_from: datetime.datetime = None, date_to: datetime.datetime = None) -> str:\n",
    "\n",
    "        if date_from and not date_to:\n",
    "            unix_date_from = self._get_unix_epoch(date_from)\n",
    "            endpoint = f'{self.base}/{self.coin}/{self.type}/?from={unix_date_from}'\n",
    "        elif date_from and date_to:\n",
    "            unix_date_from = self._get_unix_epoch(date_from)\n",
    "            unix_date_to = self._get_unix_epoch(date_to)\n",
    "            endpoint = f'{self.base}/{self.coin}/{self.type}/?from={unix_date_from},to={unix_date_to}'\n",
    "        else:\n",
    "            endpoint = f'{self.base}/{self.coin}/{self.type}'\n",
    "\n",
    "        return endpoint"
   ]
  },
  {
   "cell_type": "code",
   "execution_count": 74,
   "metadata": {},
   "outputs": [
    {
     "name": "stderr",
     "output_type": "stream",
     "text": [
      "INFO:__main__:Getting data from endpoint: https://api.mercadobitcoin.net/api/v4/tickers/?symbols=BTC-BRL\n",
      "INFO:__main__:Getting data from endpoint: https://api.mercadobitcoin.net/api/v4/BTC-BRL/trades/?from=1706238000\n"
     ]
    },
    {
     "ename": "DataTypeNotSupportedException",
     "evalue": "Data type <class 'int'> is not supported for ingestion",
     "output_type": "error",
     "traceback": [
      "\u001b[0;31m---------------------------------------------------------------------------\u001b[0m",
      "\u001b[0;31mDataTypeNotSupportedException\u001b[0m             Traceback (most recent call last)",
      "Cell \u001b[0;32mIn[74], line 9\u001b[0m\n\u001b[1;32m      7\u001b[0m writer_trades \u001b[38;5;241m=\u001b[39m DateWriter(\u001b[38;5;124m'\u001b[39m\u001b[38;5;124mtrades.json\u001b[39m\u001b[38;5;124m'\u001b[39m)\n\u001b[1;32m      8\u001b[0m writer_trades\u001b[38;5;241m.\u001b[39mwrite(trades)\n\u001b[0;32m----> 9\u001b[0m \u001b[43mwriter_trades\u001b[49m\u001b[38;5;241;43m.\u001b[39;49m\u001b[43mwrite\u001b[49m\u001b[43m(\u001b[49m\u001b[38;5;241;43m10\u001b[39;49m\u001b[43m)\u001b[49m\n",
      "Cell \u001b[0;32mIn[70], line 16\u001b[0m, in \u001b[0;36mDateWriter.write\u001b[0;34m(self, data)\u001b[0m\n\u001b[1;32m     14\u001b[0m         \u001b[38;5;28mself\u001b[39m\u001b[38;5;241m.\u001b[39mwrite(element)\n\u001b[1;32m     15\u001b[0m \u001b[38;5;28;01melse\u001b[39;00m:\n\u001b[0;32m---> 16\u001b[0m     \u001b[38;5;28;01mraise\u001b[39;00m DataTypeNotSupportedException(data)\n",
      "\u001b[0;31mDataTypeNotSupportedException\u001b[0m: Data type <class 'int'> is not supported for ingestion"
     ]
    }
   ],
   "source": [
    "tickers = TickersApi('BTC-BRL').get_data()\n",
    "trades = TradesApi('BTC-BRL').get_data(date_from = datetime.datetime(2024, 1, 26))\n",
    "\n",
    "writer_tickers = DateWriter('tickers.json')\n",
    "writer_tickers.write(tickers)\n",
    "\n",
    "writer_trades = DateWriter('trades.json')\n",
    "writer_trades.write(trades)\n"
   ]
  }
 ],
 "metadata": {
  "kernelspec": {
   "display_name": "venv",
   "language": "python",
   "name": "python3"
  },
  "language_info": {
   "codemirror_mode": {
    "name": "ipython",
    "version": 3
   },
   "file_extension": ".py",
   "mimetype": "text/x-python",
   "name": "python",
   "nbconvert_exporter": "python",
   "pygments_lexer": "ipython3",
   "version": "3.10.12"
  }
 },
 "nbformat": 4,
 "nbformat_minor": 2
}
