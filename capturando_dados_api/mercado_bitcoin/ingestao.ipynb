{
 "cells": [
  {
   "cell_type": "markdown",
   "metadata": {},
   "source": [
    "### Mercado Bitcoin\n",
    "\n",
    "Será utilizado como exemplo a API da plataforma mercado bitcoin\n",
    "\n",
    "url: https://api.mercadobitcoin.net/api/v4/docs\n"
   ]
  },
  {
   "cell_type": "markdown",
   "metadata": {},
   "source": [
    "### Imports"
   ]
  },
  {
   "cell_type": "code",
   "execution_count": 7,
   "metadata": {},
   "outputs": [],
   "source": [
    "import os\n",
    "import logging\n",
    "import requests\n",
    "from abc import ABC, abstractmethod\n",
    "import datetime\n",
    "from typing import List\n",
    "import json\n",
    "from schedule import repeat, every, run_pending\n",
    "import time\n",
    "\n",
    "logger = logging.getLogger(__name__)\n",
    "logging.basicConfig(level=logging.INFO)"
   ]
  },
  {
   "cell_type": "markdown",
   "metadata": {},
   "source": [
    "### APIs"
   ]
  },
  {
   "cell_type": "code",
   "execution_count": 10,
   "metadata": {},
   "outputs": [],
   "source": [
    "class MercadoBitcoinApi(ABC):\n",
    "    def __init__(self, coin: str):\n",
    "        self.coin = coin\n",
    "        self.base = 'https://api.mercadobitcoin.net/api/v4'\n",
    "\n",
    "    @abstractmethod\n",
    "    def _get_endpoint(self) -> str:\n",
    "        pass\n",
    "\n",
    "    def get_data(self, **kwargs) -> dict:\n",
    "        endpoint = self._get_endpoint(**kwargs)\n",
    "        logger.info(f'Getting data from endpoint: {endpoint}')\n",
    "        response = requests.get(endpoint)\n",
    "        return response.json()\n",
    "\n",
    "\n",
    "class TickersApi(MercadoBitcoinApi):\n",
    "    type = 'tickers'\n",
    "\n",
    "    def _get_endpoint(self) -> str:\n",
    "        return f'{self.base}/{self.type}/?symbols={self.coin}'\n",
    "\n",
    "\n",
    "class TradesApi(MercadoBitcoinApi):\n",
    "    type = 'trades'\n",
    "\n",
    "    def _get_unix_epoch(self, date: datetime) -> int:\n",
    "        return int(date.timestamp())\n",
    "\n",
    "    def _get_endpoint(self, date_from: datetime.datetime = None, date_to: datetime.date = None) -> str:\n",
    "\n",
    "        if date_from and not date_to:\n",
    "            unix_date_from = self._get_unix_epoch(date_from)\n",
    "            endpoint = f'{self.base}/{self.coin}/{self.type}/?from={unix_date_from}'\n",
    "        elif date_from and date_to:\n",
    "            unix_date_from = self._get_unix_epoch(date_from)\n",
    "            unix_date_to = self._get_unix_epoch(date_to)\n",
    "            endpoint = f'{self.base}/{self.coin}/{self.type}/?from={unix_date_from},to={unix_date_to}'\n",
    "        else:\n",
    "            endpoint = f'{self.base}/{self.coin}/{self.type}'\n",
    "\n",
    "        return endpoint"
   ]
  },
  {
   "cell_type": "markdown",
   "metadata": {},
   "source": [
    "### Ingestors"
   ]
  },
  {
   "cell_type": "code",
   "execution_count": 13,
   "metadata": {},
   "outputs": [],
   "source": [
    "class DataIngestor(ABC):\n",
    "    def __init__(self, writer: DataWriter, coins: List[str], default_start_date: datetime.datetime = None) -> None:\n",
    "        self.writer = writer\n",
    "        self.coins = coins\n",
    "        self.default_start_date = default_start_date\n",
    "        self._checkpoint = self._load_checkpoint()\n",
    "\n",
    "    @property\n",
    "    def _checkpoint_filename(self):\n",
    "        return f'{self.__class__.__name__}.checkpoint'\n",
    "\n",
    "    def _write_checkpoint(self):\n",
    "        with open(self._checkpoint_filename, 'w') as f:\n",
    "            f.write(f'{self._checkpoint}')\n",
    "\n",
    "    def _load_checkpoint(self):\n",
    "        try:\n",
    "            with open(self._checkpoint_filename, 'r') as f:\n",
    "                return datetime.datetime.strptime(f.read(), '%Y-%n-%d').date()\n",
    "        except:\n",
    "            return None\n",
    "\n",
    "    def _get_checkpoint(self):\n",
    "        if not self._checkpoint:\n",
    "            return self.default_start_date\n",
    "        else:\n",
    "            return self._checkpoint\n",
    "\n",
    "    def _update_checkpoint(self, value):\n",
    "        self._checkpoint = value\n",
    "        self._write_checkpoint()\n",
    "\n",
    "    @abstractmethod\n",
    "    def ingest(self) -> None:\n",
    "        pass\n",
    "\n",
    "\n",
    "class TickersIngestor(DataIngestor):\n",
    "    def ingest(self) -> None:\n",
    "        for coin in self.coins:\n",
    "            api = TickersApi(coin)\n",
    "            data = api.get_data()\n",
    "            self.writer(coin=coin, api=api.type).write(data)\n",
    "\n",
    "\n",
    "class TradesIngestor(DataIngestor):\n",
    "    def ingest(self) -> None:\n",
    "        date = self._get_checkpoint()\n",
    "        if date < datetime.datetime.today():\n",
    "            for coin in self.coins:\n",
    "                api = TradesApi(coin)\n",
    "                data = api.get_data()\n",
    "                self.writer(coin=coin, api=api.type).write(data)\n",
    "            self._update_checkpoint(\n",
    "                date + datetime.timedelta(days=1))"
   ]
  },
  {
   "cell_type": "markdown",
   "metadata": {},
   "source": [
    "### Writers"
   ]
  },
  {
   "cell_type": "code",
   "execution_count": 9,
   "metadata": {},
   "outputs": [],
   "source": [
    "class DataWriter():\n",
    "    def __init__(self, coin: str, api: str) -> None:\n",
    "        self.coin = coin\n",
    "        self.api = api\n",
    "        self.filename = f'{self.api}/{self.coin}/{datetime.datetime.now()}.json'\n",
    "\n",
    "    def _write_row(self, row: str) -> None:\n",
    "        os.makedirs(os.path.dirname(self.filename), exist_ok=True)\n",
    "        with open(self.filename, 'a') as f:\n",
    "            f.write(row)\n",
    "\n",
    "    def write(self, data):\n",
    "        if isinstance(data, dict):\n",
    "            self._write_row(json.dumps(data) + '\\n')\n",
    "        elif isinstance(data, List):\n",
    "            for element in data:\n",
    "                self.write(element)\n",
    "        else:\n",
    "            raise DataTypeNotSupportedException(data)"
   ]
  },
  {
   "cell_type": "markdown",
   "metadata": {},
   "source": [
    "### Exceptions"
   ]
  },
  {
   "cell_type": "code",
   "execution_count": 8,
   "metadata": {},
   "outputs": [],
   "source": [
    "class DataTypeNotSupportedException(Exception):\n",
    "    def __init__(self, data) -> None:\n",
    "        self.data = data\n",
    "        self.message = f'Data type {type(data)} is not supported for ingestion'\n",
    "        super().__init__(self.message)"
   ]
  },
  {
   "cell_type": "code",
   "execution_count": null,
   "metadata": {},
   "outputs": [],
   "source": [
    "ingestorTickers = TickersIngestor(\n",
    "    writer=DataWriter, coins=['BTC-BRL', 'ETH-BRL'])\n",
    "ingestorTickers.ingest()\n",
    "\n",
    "ingestorTrades = TradesIngestor(writer=DataWriter, coins=[\n",
    "                                'BTC-BRL', 'ETH-BRL'], default_start_date=datetime.datetime(2024, 3, 4))\n",
    "ingestorTrades.ingest()\n",
    "\n",
    "@repeat(every(1).seconds)\n",
    "def job():\n",
    "    ingestorTrades.ingest()\n",
    "\n",
    "while True:\n",
    "    run_pending()\n",
    "    time.sleep(0.5)"
   ]
  }
 ],
 "metadata": {
  "kernelspec": {
   "display_name": "venv",
   "language": "python",
   "name": "python3"
  },
  "language_info": {
   "codemirror_mode": {
    "name": "ipython",
    "version": 3
   },
   "file_extension": ".py",
   "mimetype": "text/x-python",
   "name": "python",
   "nbconvert_exporter": "python",
   "pygments_lexer": "ipython3",
   "version": "3.10.12"
  }
 },
 "nbformat": 4,
 "nbformat_minor": 2
}
