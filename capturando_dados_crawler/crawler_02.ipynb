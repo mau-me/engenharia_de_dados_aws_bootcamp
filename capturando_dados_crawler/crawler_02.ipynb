{
 "cells": [
  {
   "cell_type": "code",
   "execution_count": null,
   "metadata": {},
   "outputs": [],
   "source": [
    "from selenium import webdriver\n",
    "from selenium.webdriver.common.by import By\n",
    "import pandas as pd\n",
    "import os\n",
    "from time import sleep"
   ]
  },
  {
   "cell_type": "code",
   "execution_count": null,
   "metadata": {},
   "outputs": [],
   "source": [
    "actor = 'Denzel_Washington'\n",
    "\n",
    "driver = webdriver.Chrome()\n",
    "driver.get(f'https://pt.wikipedia.org/wiki/{actor}')\n",
    "\n",
    "\n",
    "# filmografia = driver.find_element(By.XPATH, '//*[@id=\"mw-content-text\"]/div[1]/table[3]/tbody/tr')\n",
    "\n",
    "try:\n",
    "    filmografia = driver.find_element(By.CLASS_NAME, 'wikitable')\n",
    "    if filmografia:\n",
    "        # print(filmografia.get_attribute('innerHTML'))\n",
    "\n",
    "        # table = '<table>' + filmografia.get_attribute('innerHTML') + '<\\\\table>'\n",
    "        # print(table)\n",
    "\n",
    "        os.makedirs(f'actors/{actor}', exist_ok=True)\n",
    "\n",
    "        df = pd.read_html('<table>' + filmografia.get_attribute('innerHTML') + '<\\table>')[0]\n",
    "        df.to_csv(f'actors/{actor}/filmes_{actor}.csv', index=False)\n",
    "\n",
    "        with open(f'actors/{actor}/{actor}.png', 'wb') as f:\n",
    "            f.write(driver.find_element(By.XPATH, '/html/body').screenshot_as_png)\n",
    "\n",
    "        # for filme in filmografia:\n",
    "        #     print(filme.text)\n",
    "except Exception as e:\n",
    "    print(f'O Ator {actor} não possui filmografia no wikipédia')\n",
    "    # print(e)\n",
    "\n",
    "driver.close()\n"
   ]
  }
 ],
 "metadata": {
  "kernelspec": {
   "display_name": "venv",
   "language": "python",
   "name": "python3"
  },
  "language_info": {
   "codemirror_mode": {
    "name": "ipython",
    "version": 3
   },
   "file_extension": ".py",
   "mimetype": "text/x-python",
   "name": "python",
   "nbconvert_exporter": "python",
   "pygments_lexer": "ipython3",
   "version": "3.10.12"
  }
 },
 "nbformat": 4,
 "nbformat_minor": 2
}
