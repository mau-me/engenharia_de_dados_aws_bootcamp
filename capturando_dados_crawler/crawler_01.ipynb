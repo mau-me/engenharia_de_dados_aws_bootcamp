{
 "cells": [
  {
   "cell_type": "code",
   "execution_count": 88,
   "metadata": {},
   "outputs": [],
   "source": [
    "from selenium import webdriver\n",
    "from selenium.webdriver.common.by import By\n",
    "from time import sleep"
   ]
  },
  {
   "cell_type": "code",
   "execution_count": 84,
   "metadata": {},
   "outputs": [],
   "source": [
    "# driver = webdriver.Chrome()\n",
    "# driver.get('https://howedu.com.br')\n",
    "\n",
    "# driver.find_element(By.XPATH, '//*[@id=\"post-11648\"]/div/div/section[2]/div[3]/div[1]/div/div[5]/div/div/a').click()"
   ]
  },
  {
   "cell_type": "code",
   "execution_count": 85,
   "metadata": {},
   "outputs": [],
   "source": [
    "driver = webdriver.Chrome()\n",
    "driver.get('https://buscacepinter.correios.com.br/app/endereco/index.php')\n",
    "\n",
    "element_cep = driver.find_element(By.XPATH, '//*[@id=\"endereco\"]')\n",
    "element_cep.send_keys('antonino casaes')\n",
    "\n",
    "driver.find_element(By.XPATH, '//*[@id=\"tipoCEP\"]').click()\n",
    "driver.find_element(By.XPATH, '//*[@id=\"tipoCEP\"]/optgroup/option[6]').click()\n",
    "\n",
    "driver.find_element(By.XPATH, '//*[@id=\"btn_pesquisar\"]').click()"
   ]
  },
  {
   "cell_type": "code",
   "execution_count": 86,
   "metadata": {},
   "outputs": [
    {
     "name": "stdout",
     "output_type": "stream",
     "text": [
      "Logradouro/Nome Bairro/Distrito Localidade/UF CEP\n",
      "Rua Antonino Casaes Chapada do Rio Vermelho Salvador/BA 41928-106\n",
      "Rua Antonino Casaes Itapuã Salvador/BA 41610-000\n",
      "1ª Travessa Antonino Casaes Jardim Placaford Salvador/BA 41612-295\n",
      "\n"
     ]
    }
   ],
   "source": [
    "sleep(.5)\n",
    "\n",
    "infos = driver.find_elements(By.XPATH, '//tr')\n",
    "\n",
    "for info in infos:\n",
    "    print(info.text)\n",
    "\n",
    "driver.close()"
   ]
  }
 ],
 "metadata": {
  "kernelspec": {
   "display_name": "venv",
   "language": "python",
   "name": "python3"
  },
  "language_info": {
   "codemirror_mode": {
    "name": "ipython",
    "version": 3
   },
   "file_extension": ".py",
   "mimetype": "text/x-python",
   "name": "python",
   "nbconvert_exporter": "python",
   "pygments_lexer": "ipython3",
   "version": "3.10.12"
  }
 },
 "nbformat": 4,
 "nbformat_minor": 2
}
